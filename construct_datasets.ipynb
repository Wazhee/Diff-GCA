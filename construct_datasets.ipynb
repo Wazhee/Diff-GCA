{
 "cells": [
  {
   "cell_type": "code",
   "execution_count": 1,
   "id": "99511de4",
   "metadata": {},
   "outputs": [
    {
     "name": "stdout",
     "output_type": "stream",
     "text": [
      "<class 'pandas.core.frame.DataFrame'>\n",
      "RangeIndex: 18657 entries, 0 to 18656\n",
      "Data columns (total 5 columns):\n",
      " #   Column          Non-Null Count  Dtype \n",
      "---  ------          --------------  ----- \n",
      " 0   path            18657 non-null  object\n",
      " 1   Pneumonia_RSNA  18657 non-null  int64 \n",
      " 2   Sex             18657 non-null  object\n",
      " 3   Age             18657 non-null  int64 \n",
      " 4   Age_group       18657 non-null  object\n",
      "dtypes: int64(2), object(3)\n",
      "memory usage: 728.9+ KB\n"
     ]
    },
    {
     "data": {
      "text/plain": [
       "(None,\n",
       "                path  Pneumonia_RSNA Sex  Age Age_group\n",
       " 0  00000003_000.png               0   F   81       80+\n",
       " 1  00000003_002.png               0   F   75     60-80\n",
       " 2  00000003_003.png               0   F   76     60-80\n",
       " 3  00000003_005.png               0   F   78     60-80\n",
       " 4  00000005_002.png               0   F   69     60-80)"
      ]
     },
     "execution_count": 1,
     "metadata": {},
     "output_type": "execute_result"
    }
   ],
   "source": [
    "import pandas as pd\n",
    "\n",
    "# Load the CSV file\n",
    "csv_path = \"../CXR/datasets/train-rsna.csv\"\n",
    "df = pd.read_csv(csv_path)\n",
    "\n",
    "# Display basic info and first few rows to understand the structure\n",
    "df.info(), df.head()"
   ]
  },
  {
   "cell_type": "code",
   "execution_count": 2,
   "id": "2697a305",
   "metadata": {},
   "outputs": [
    {
     "data": {
      "text/plain": [
       "({'male': 300, 'female': 300},\n",
       " {'0-20Y': 300, '20-40Y': 300, '40-60Y': 300, '60-80Y': 300, '80+Y': 226},\n",
       " 0)"
      ]
     },
     "execution_count": 2,
     "metadata": {},
     "output_type": "execute_result"
    }
   ],
   "source": [
    "import os\n",
    "import shutil\n",
    "from pathlib import Path\n",
    "\n",
    "# Define source base directory\n",
    "source_base = Path(\"../CXR/datasets/rsna\")\n",
    "\n",
    "# Define destination base directory\n",
    "destination_base = Path(\"../CXR/datasets/cxr_dreambooth\")\n",
    "\n",
    "# Mapping for Sex\n",
    "sex_mapping = {\n",
    "    \"M\": \"male\",\n",
    "    \"F\": \"female\"\n",
    "}\n",
    "\n",
    "# Mapping for Age_group\n",
    "age_group_mapping = {\n",
    "    \"0-20\": \"0-20Y\",\n",
    "    \"20-40\": \"20-40Y\",\n",
    "    \"40-60\": \"40-60Y\",\n",
    "    \"60-80\": \"60-80Y\",\n",
    "    \"80+\": \"80+Y\"\n",
    "}\n",
    "\n",
    "# Create a list to track any missing source files\n",
    "missing_files = []\n",
    "\n",
    "# Helper function to copy images\n",
    "def copy_samples(group_df, group_name, max_samples=300):\n",
    "    dest_dir = destination_base / group_name\n",
    "    dest_dir.mkdir(parents=True, exist_ok=True)\n",
    "\n",
    "    sampled_df = group_df.sample(n=min(max_samples, len(group_df)), random_state=42)\n",
    "    copied = 0\n",
    "    for _, row in sampled_df.iterrows():\n",
    "        src_path = source_base / row['path']\n",
    "        dst_path = dest_dir / row['path']\n",
    "        if src_path.exists():\n",
    "            shutil.copy2(src_path, dst_path)\n",
    "            copied += 1\n",
    "        else:\n",
    "            missing_files.append(str(src_path))\n",
    "    return copied\n",
    "\n",
    "# Copy for each sex category\n",
    "sex_counts = {}\n",
    "for code, name in sex_mapping.items():\n",
    "    group_df = df[df[\"Sex\"] == code]\n",
    "    sex_counts[name] = copy_samples(group_df, name)\n",
    "\n",
    "# Copy for each age group\n",
    "age_counts = {}\n",
    "for code, name in age_group_mapping.items():\n",
    "    group_df = df[df[\"Age_group\"] == code]\n",
    "    age_counts[name] = copy_samples(group_df, name)\n",
    "\n",
    "sex_counts, age_counts, len(missing_files)"
   ]
  },
  {
   "cell_type": "code",
   "execution_count": null,
   "id": "8501e137",
   "metadata": {},
   "outputs": [],
   "source": []
  }
 ],
 "metadata": {
  "kernelspec": {
   "display_name": "Python 3 (ipykernel)",
   "language": "python",
   "name": "python3"
  },
  "language_info": {
   "codemirror_mode": {
    "name": "ipython",
    "version": 3
   },
   "file_extension": ".py",
   "mimetype": "text/x-python",
   "name": "python",
   "nbconvert_exporter": "python",
   "pygments_lexer": "ipython3",
   "version": "3.10.6"
  }
 },
 "nbformat": 4,
 "nbformat_minor": 5
}
