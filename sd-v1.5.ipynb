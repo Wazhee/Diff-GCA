{
 "cells": [
  {
   "cell_type": "code",
   "execution_count": 1,
   "id": "cf696f60",
   "metadata": {},
   "outputs": [
    {
     "name": "stderr",
     "output_type": "stream",
     "text": [
      "/usr/local/lib/python3.10/dist-packages/tqdm/auto.py:21: TqdmWarning: IProgress not found. Please update jupyter and ipywidgets. See https://ipywidgets.readthedocs.io/en/stable/user_install.html\n",
      "  from .autonotebook import tqdm as notebook_tqdm\n",
      "The cache for model files in Transformers v4.22.0 has been updated. Migrating your old cache. This is a one-time only operation. You can interrupt this and resume the migration later on by calling `transformers.utils.move_cache()`.\n",
      "0it [00:00, ?it/s]\n"
     ]
    },
    {
     "name": "stdout",
     "output_type": "stream",
     "text": [
      "Number of visible GPUs: 1\n"
     ]
    }
   ],
   "source": [
    "from diffusers import StableDiffusionPipeline\n",
    "import torch\n",
    "import os\n",
    "\n",
    "# os.environ[\"CUDA_VISIBLE_DEVICES\"]=\"0\"\n",
    "num_gpus = torch.cuda.device_count()\n",
    "print(f\"Number of visible GPUs: {num_gpus}\")"
   ]
  },
  {
   "cell_type": "code",
   "execution_count": 28,
   "id": "a8a909ad",
   "metadata": {},
   "outputs": [
    {
     "name": "stderr",
     "output_type": "stream",
     "text": [
      "Loading pipeline components...: 100%|██████████| 7/7 [00:01<00:00,  5.54it/s]\n"
     ]
    }
   ],
   "source": [
    "#---- Load SD-v1.5 Model ----\n",
    "model_id = \"sd-legacy/stable-diffusion-v1-5\"\n",
    "pipe = StableDiffusionPipeline.from_pretrained(model_id, torch_dtype=torch.float16)\n",
    "pipe = pipe.to(\"cuda\")"
   ]
  },
  {
   "cell_type": "code",
   "execution_count": 29,
   "id": "081dd453",
   "metadata": {},
   "outputs": [
    {
     "name": "stderr",
     "output_type": "stream",
     "text": [
      "100%|██████████| 50/50 [00:01<00:00, 29.39it/s]\n"
     ]
    }
   ],
   "source": [
    "prompt = \"photo of a chest x-ray\"\n",
    "image = pipe(prompt).images[0]  \n",
    "image.save(\"figures/cxr_before_ft.png\")\n",
    "\n",
    "# prompt = \"image of a female chest x-ray\"\n",
    "# image = pipe(prompt).images[0]  \n",
    "# image.save(\"female_cxr.png\")"
   ]
  },
  {
   "cell_type": "markdown",
   "id": "16498fcd",
   "metadata": {},
   "source": [
    "## Fine-Tuning SD-v1.5 with DreamBooth"
   ]
  },
  {
   "cell_type": "code",
   "execution_count": 11,
   "id": "6765b740",
   "metadata": {},
   "outputs": [
    {
     "name": "stderr",
     "output_type": "stream",
     "text": [
      "/home/runai-home/.local/lib/python3.10/site-packages/huggingface_hub/file_download.py:943: FutureWarning: `resume_download` is deprecated and will be removed in version 1.0.0. Downloads always resume when possible. If you want to force a new download, use `force_download=True`.\n",
      "  warnings.warn(\n",
      "Fetching 16 files: 100%|██████████| 16/16 [00:05<00:00,  2.87it/s]\n",
      "Loading pipeline components...: 100%|██████████| 7/7 [00:00<00:00,  9.62it/s]\n"
     ]
    }
   ],
   "source": [
    "from accelerate import Accelerator\n",
    "from diffusers import DiffusionPipeline\n",
    "\n",
    "# Load the pipeline with the same arguments (model, revision) that were used for training\n",
    "model_id = \"CompVis/stable-diffusion-v1-4\"\n",
    "pipeline = DiffusionPipeline.from_pretrained(model_id)\n",
    "\n",
    "# accelerator = Accelerator()\n",
    "\n",
    "# # Use text_encoder if `--train_text_encoder` was used for the initial training\n",
    "# unet, text_encoder = accelerator.prepare(pipeline.unet, pipeline.text_encoder)\n",
    "\n",
    "# # Restore state from a checkpoint path. You have to use the absolute path here.\n",
    "# accelerator.load_state(\"/sddata/dreambooth/daruma-v2-1/checkpoint-100\")\n",
    "\n",
    "# # Rebuild the pipeline with the unwrapped models (assignment to .unet and .text_encoder should work too)\n",
    "# pipeline = DiffusionPipeline.from_pretrained(\n",
    "#     model_id,\n",
    "#     unet=accelerator.unwrap_model(unet),\n",
    "#     text_encoder=accelerator.unwrap_model(text_encoder),\n",
    "# )\n",
    "\n",
    "# # Perform inference, or save, or push to the hub\n",
    "# pipeline.save_pretrained(\"dreambooth-pipeline\")"
   ]
  },
  {
   "cell_type": "code",
   "execution_count": 23,
   "id": "082129c6",
   "metadata": {},
   "outputs": [
    {
     "ename": "ImportError",
     "evalue": "cannot import name 'compute_snr' from 'diffusers.training_utils' (/home/runai-home/.local/lib/python3.10/site-packages/diffusers/training_utils.py)",
     "output_type": "error",
     "traceback": [
      "\u001b[0;31m---------------------------------------------------------------------------\u001b[0m",
      "\u001b[0;31mImportError\u001b[0m                               Traceback (most recent call last)",
      "Cell \u001b[0;32mIn[23], line 2\u001b[0m\n\u001b[1;32m      1\u001b[0m \u001b[38;5;28;01mfrom\u001b[39;00m \u001b[38;5;21;01mdiffusers\u001b[39;00m\u001b[38;5;21;01m.\u001b[39;00m\u001b[38;5;21;01mutils\u001b[39;00m\u001b[38;5;21;01m.\u001b[39;00m\u001b[38;5;21;01mtorch_utils\u001b[39;00m \u001b[38;5;28;01mimport\u001b[39;00m randn_tensor\n\u001b[0;32m----> 2\u001b[0m \u001b[38;5;28;01mfrom\u001b[39;00m \u001b[38;5;21;01mdiffusers\u001b[39;00m\u001b[38;5;21;01m.\u001b[39;00m\u001b[38;5;21;01mtraining_utils\u001b[39;00m \u001b[38;5;28;01mimport\u001b[39;00m compute_snr\n",
      "\u001b[0;31mImportError\u001b[0m: cannot import name 'compute_snr' from 'diffusers.training_utils' (/home/runai-home/.local/lib/python3.10/site-packages/diffusers/training_utils.py)"
     ]
    }
   ],
   "source": [
    "from diffusers.utils.torch_utils import randn_tensor\n",
    "from diffusers.training_utils import compute_snr"
   ]
  },
  {
   "cell_type": "code",
   "execution_count": 31,
   "id": "65b89c90",
   "metadata": {},
   "outputs": [
    {
     "name": "stderr",
     "output_type": "stream",
     "text": [
      "Loading pipeline components...: 100%|██████████| 7/7 [00:44<00:00,  6.39s/it]\n",
      "100%|██████████| 50/50 [00:01<00:00, 30.00it/s]\n"
     ]
    }
   ],
   "source": [
    "from diffusers import DiffusionPipeline\n",
    "import torch\n",
    "\n",
    "pipeline = DiffusionPipeline.from_pretrained(\"saved_models\", torch_dtype=torch.float16, use_safetensors=True).to(\"cuda\")\n",
    "image = pipeline(\"photo of a chest x-ray\", num_inference_steps=50, guidance_scale=7.5).images[0]\n",
    "image.save(\"figures/cxr_after_40000ft.png\")"
   ]
  },
  {
   "cell_type": "code",
   "execution_count": null,
   "id": "bb1faef2",
   "metadata": {},
   "outputs": [],
   "source": []
  }
 ],
 "metadata": {
  "kernelspec": {
   "display_name": "Python 3 (ipykernel)",
   "language": "python",
   "name": "python3"
  },
  "language_info": {
   "codemirror_mode": {
    "name": "ipython",
    "version": 3
   },
   "file_extension": ".py",
   "mimetype": "text/x-python",
   "name": "python",
   "nbconvert_exporter": "python",
   "pygments_lexer": "ipython3",
   "version": "3.10.6"
  }
 },
 "nbformat": 4,
 "nbformat_minor": 5
}
